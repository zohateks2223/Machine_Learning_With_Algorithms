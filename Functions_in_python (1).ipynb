{
  "nbformat": 4,
  "nbformat_minor": 0,
  "metadata": {
    "colab": {
      "provenance": []
    },
    "kernelspec": {
      "name": "python3",
      "display_name": "Python 3"
    },
    "language_info": {
      "name": "python"
    }
  },
  "cells": [
    {
      "cell_type": "code",
      "execution_count": null,
      "metadata": {
        "id": "UZmPSzW7iBam"
      },
      "outputs": [],
      "source": [
        "#function is a block of code defined with a name.\n"
      ]
    },
    {
      "cell_type": "code",
      "source": [
        "#def func_name(parameters):"
      ],
      "metadata": {
        "id": "Lh8kyjZ0I8S1"
      },
      "execution_count": null,
      "outputs": []
    },
    {
      "cell_type": "code",
      "source": [
        "#Types of Functions\n",
        "#Python support two types of functions\n",
        "\n",
        "#Built-in function\n",
        "#User-defined function"
      ],
      "metadata": {
        "id": "zgR4pbnMjjoY"
      },
      "execution_count": null,
      "outputs": []
    },
    {
      "cell_type": "code",
      "source": [
        "#the functions which are come along with Python itself are called a built-in function or predefined function."
      ],
      "metadata": {
        "id": "lygBqyb7js2Q"
      },
      "execution_count": null,
      "outputs": []
    },
    {
      "cell_type": "code",
      "source": [
        "#range()\n",
        "#type()\n",
        "#input()\n",
        "#eval()"
      ],
      "metadata": {
        "id": "LvLJukU_j3tW"
      },
      "execution_count": null,
      "outputs": []
    },
    {
      "cell_type": "code",
      "source": [
        "#Use the def keyword with the function name to define a function.\n",
        "#pass the number of parameters as per your requirement.\n",
        "#define the function body with a block of code.\n"
      ],
      "metadata": {
        "id": "CG3vAGdjkJ8r"
      },
      "execution_count": null,
      "outputs": []
    },
    {
      "cell_type": "code",
      "source": [
        "def add(a,b):\n",
        "  print(a+b)\n",
        "  print(a-b)\n",
        "  print(a*b)\n",
        "#add(a=30,b=25)\n",
        "add(45,15)"
      ],
      "metadata": {
        "id": "WsJzDixePh50",
        "colab": {
          "base_uri": "https://localhost:8080/"
        },
        "outputId": "8d06aa01-fa54-4ac6-bf35-75f360b0b6c3"
      },
      "execution_count": 7,
      "outputs": [
        {
          "output_type": "stream",
          "name": "stdout",
          "text": [
            "60\n",
            "30\n",
            "675\n"
          ]
        }
      ]
    },
    {
      "cell_type": "code",
      "source": [
        "a=7\n",
        "b=6\n",
        "c=a+b\n",
        "print(c)"
      ],
      "metadata": {
        "colab": {
          "base_uri": "https://localhost:8080/"
        },
        "id": "7irN3vzpQo2Q",
        "outputId": "62a36377-7c1a-49d4-b645-5e4f8c184332"
      },
      "execution_count": null,
      "outputs": [
        {
          "output_type": "stream",
          "name": "stdout",
          "text": [
            "13\n"
          ]
        }
      ]
    },
    {
      "cell_type": "code",
      "source": [
        "#syntax\n",
        "#def function_name(parameter1, parameter2):\n",
        "       # function body\n",
        "       # write some action\n",
        "#return value\n",
        "#return value: Return value is the output of the function."
      ],
      "metadata": {
        "id": "LcT8siAKkism"
      },
      "execution_count": null,
      "outputs": []
    },
    {
      "cell_type": "code",
      "source": [
        "def message():\n",
        "  name=input(\"enter your name:\")\n",
        "  print(name,\"Welcome to colab\")\n",
        "\n",
        "message()"
      ],
      "metadata": {
        "id": "RPqZSsfZlBYy",
        "colab": {
          "base_uri": "https://localhost:8080/"
        },
        "outputId": "af89acc7-c205-443b-9b7f-804b6d1a7336"
      },
      "execution_count": 8,
      "outputs": [
        {
          "output_type": "stream",
          "name": "stdout",
          "text": [
            "enter your name:asdfg\n",
            "asdfg Welcome to colab\n"
          ]
        }
      ]
    },
    {
      "cell_type": "code",
      "source": [
        "#use %,// to find reminder and q\n",
        "dividend=int(input(\"Enter the number:\"))\n",
        "divisor=int(input(\"enter the number:\"))\n",
        "def func():\n",
        "  r= dividend % divisor\n",
        "  print(\"the reminder is:\",r)\n",
        "  q= dividend // divisor\n",
        "  print(\"the quotiont val is:\" ,q)\n",
        "\n",
        "func()"
      ],
      "metadata": {
        "id": "aerD7RVxTXnE",
        "colab": {
          "base_uri": "https://localhost:8080/"
        },
        "outputId": "8f066a99-fe35-4063-e715-7988eaafccc3"
      },
      "execution_count": 10,
      "outputs": [
        {
          "output_type": "stream",
          "name": "stdout",
          "text": [
            "Enter the number:45\n",
            "enter the number:5\n",
            "the reminder is: 0\n",
            "the quotiont val is: 9\n"
          ]
        }
      ]
    },
    {
      "cell_type": "code",
      "source": [
        "def course_func(name, course_name):\n",
        "    print(\"Hello\", name, \"Welcome to colab\")\n",
        "    print(\"Your course name is\", course_name)\n",
        "\n",
        "# call function\n",
        "course_func('venu', 'Python')"
      ],
      "metadata": {
        "id": "axIOUCoNlNO5",
        "colab": {
          "base_uri": "https://localhost:8080/"
        },
        "outputId": "2e4a5644-6806-4b73-d23c-cf13b68b51ff"
      },
      "execution_count": 9,
      "outputs": [
        {
          "output_type": "stream",
          "name": "stdout",
          "text": [
            "Hello venu Welcome to colab\n",
            "Your course name is Python\n"
          ]
        }
      ]
    },
    {
      "cell_type": "code",
      "source": [
        "def calculator(a, b):\n",
        "    add = a + b\n",
        "    sub=a-b\n",
        "    # return the addition\n",
        "    return add,sub\n",
        "res = calculator(20, 5)\n",
        "\n",
        "print(\"Addition :\", res)"
      ],
      "metadata": {
        "id": "d3MhzNItlkyg",
        "colab": {
          "base_uri": "https://localhost:8080/"
        },
        "outputId": "ea3f4f3d-067b-4123-de91-cb3d7486e0c8"
      },
      "execution_count": 13,
      "outputs": [
        {
          "output_type": "stream",
          "name": "stdout",
          "text": [
            "Addition : (25, 15)\n"
          ]
        }
      ]
    },
    {
      "cell_type": "code",
      "source": [
        "add= lambda a,b :a+b\n",
        "print(add(5,10))"
      ],
      "metadata": {
        "colab": {
          "base_uri": "https://localhost:8080/"
        },
        "id": "2NPmYEJSPKId",
        "outputId": "4ea79ff6-0101-4a75-f41a-b6762fa47f29"
      },
      "execution_count": 14,
      "outputs": [
        {
          "output_type": "stream",
          "name": "stdout",
          "text": [
            "15\n"
          ]
        }
      ]
    },
    {
      "cell_type": "code",
      "source": [
        "p=UserWarning\n",
        "t=floatre\n",
        "rate="
      ],
      "metadata": {
        "id": "G9vgJ9VsmuXK"
      },
      "execution_count": null,
      "outputs": []
    }
  ]
}